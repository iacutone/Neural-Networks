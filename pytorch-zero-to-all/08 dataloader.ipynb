{
 "cells": [
  {
   "cell_type": "code",
   "execution_count": 1,
   "metadata": {},
   "outputs": [],
   "source": [
    "import torch\n",
    "from torch.autograd import Variable as V\n",
    "from torch.utils.data import Dataset, DataLoader\n",
    "\n",
    "import numpy as np"
   ]
  },
  {
   "cell_type": "code",
   "execution_count": 2,
   "metadata": {},
   "outputs": [],
   "source": [
    "class DiabetesDataset(Dataset):\n",
    "    def __init__(self):\n",
    "        data = np.loadtxt('data/diabetes.csv', delimiter=',', dtype=np.float32)\n",
    "        self.x_data = torch.from_numpy(data[:, 0:-1])\n",
    "        self.y_data = torch.from_numpy(data[:, [-1]])\n",
    "        self.len = data.shape[0]\n",
    "    \n",
    "    def __getitem__(self, index):\n",
    "        return self.x_data[index], self.y_data[index]\n",
    "    \n",
    "    def __len__(self):\n",
    "        return self.len"
   ]
  },
  {
   "cell_type": "code",
   "execution_count": 3,
   "metadata": {},
   "outputs": [],
   "source": [
    "class Model(torch.nn.Module):\n",
    "    def __init__(self):\n",
    "        super(Model, self).__init__()\n",
    "        self.l1 = torch.nn.Linear(8, 6) # notice, 8 inputs and...\n",
    "        self.l2 = torch.nn.Linear(6, 4)\n",
    "        self.l3 = torch.nn.Linear(4, 1) # one output\n",
    "            \n",
    "        self.sigmoid = torch.nn.Sigmoid()\n",
    "        \n",
    "    def forward(self, x):\n",
    "        out1 = self.sigmoid(self.l1(x))\n",
    "        out2 = self.sigmoid(self.l2(out1))\n",
    "        y_hat = self.sigmoid(self.l3(out2))\n",
    "        \n",
    "        return y_hat\n",
    "\n",
    "model = Model()\n",
    "\n",
    "criterion = torch.nn.BCELoss(size_average=True)\n",
    "optimizer = torch.optim.SGD(model.parameters(), lr=0.1)\n",
    "\n",
    "dataset = DiabetesDataset()\n",
    "train_loader = DataLoader(dataset=dataset,\n",
    "                          batch_size=32,\n",
    "                          shuffle=True,\n",
    "                          num_workers=2)"
   ]
  },
  {
   "cell_type": "code",
   "execution_count": 7,
   "metadata": {},
   "outputs": [
    {
     "name": "stdout",
     "output_type": "stream",
     "text": [
      "0 0 0.8063732385635376\n",
      "0 1 0.7425640821456909\n",
      "0 2 0.7506237626075745\n",
      "0 3 0.710849940776825\n",
      "0 4 0.7370873689651489\n",
      "0 5 0.7026951313018799\n",
      "0 6 0.7203333377838135\n",
      "0 7 0.7004845142364502\n",
      "0 8 0.6950200200080872\n",
      "0 9 0.677420973777771\n",
      "0 10 0.6726390719413757\n",
      "0 11 0.6956398487091064\n",
      "0 12 0.6819764971733093\n",
      "0 13 0.6473138928413391\n",
      "0 14 0.6785783171653748\n",
      "0 15 0.6921446919441223\n",
      "0 16 0.6647969484329224\n",
      "0 17 0.6552974581718445\n",
      "0 18 0.7101877927780151\n",
      "0 19 0.6698883771896362\n",
      "0 20 0.644668698310852\n",
      "0 21 0.6304548978805542\n",
      "0 22 0.7065246105194092\n",
      "0 23 0.657615065574646\n",
      "1 0 0.6448472738265991\n",
      "1 1 0.6645093560218811\n",
      "1 2 0.6866055130958557\n",
      "1 3 0.6753205060958862\n",
      "1 4 0.6865471601486206\n",
      "1 5 0.6863905787467957\n",
      "1 6 0.6647646427154541\n",
      "1 7 0.631183385848999\n",
      "1 8 0.6398179531097412\n",
      "1 9 0.6251775622367859\n",
      "1 10 0.6224042177200317\n",
      "1 11 0.6338616013526917\n",
      "1 12 0.6616095900535583\n",
      "1 13 0.6471397280693054\n",
      "1 14 0.6912146210670471\n",
      "1 15 0.6179956197738647\n",
      "1 16 0.6614190936088562\n",
      "1 17 0.646186351776123\n",
      "1 18 0.6149312853813171\n",
      "1 19 0.6290338635444641\n",
      "1 20 0.6284855604171753\n",
      "1 21 0.5598858594894409\n",
      "1 22 0.6982823610305786\n",
      "1 23 0.6709557175636292\n"
     ]
    }
   ],
   "source": [
    "for epoch in range(2):\n",
    "    for i, data in enumerate(train_loader, 0):\n",
    "        inputs, labels = data\n",
    "        inputs, labels = V(inputs), V(labels)\n",
    "    \n",
    "        y_hat = model(inputs)\n",
    "        loss = criterion(y_hat, labels)\n",
    "        print(epoch, i, loss.data[0])\n",
    "    \n",
    "        optimizer.zero_grad()\n",
    "        loss.backward()\n",
    "        optimizer.step()"
   ]
  },
  {
   "cell_type": "code",
   "execution_count": null,
   "metadata": {},
   "outputs": [],
   "source": []
  }
 ],
 "metadata": {
  "kernelspec": {
   "display_name": "Python 3",
   "language": "python",
   "name": "python3"
  },
  "language_info": {
   "codemirror_mode": {
    "name": "ipython",
    "version": 3
   },
   "file_extension": ".py",
   "mimetype": "text/x-python",
   "name": "python",
   "nbconvert_exporter": "python",
   "pygments_lexer": "ipython3",
   "version": "3.6.7"
  }
 },
 "nbformat": 4,
 "nbformat_minor": 2
}
